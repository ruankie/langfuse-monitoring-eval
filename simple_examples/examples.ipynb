{
 "cells": [
  {
   "cell_type": "code",
   "execution_count": 1,
   "metadata": {},
   "outputs": [],
   "source": [
    "# ! pip install langfuse"
   ]
  },
  {
   "cell_type": "code",
   "execution_count": 2,
   "metadata": {},
   "outputs": [
    {
     "name": "stderr",
     "output_type": "stream",
     "text": [
      "USER_AGENT environment variable not set, consider setting it to identify your requests.\n"
     ]
    }
   ],
   "source": [
    "from decorator_example import get_story\n",
    "from langchain_rag_example import get_rag_chain\n",
    "from langfuse.callback import CallbackHandler"
   ]
  },
  {
   "cell_type": "markdown",
   "metadata": {},
   "source": [
    "## Get story"
   ]
  },
  {
   "cell_type": "code",
   "execution_count": 3,
   "metadata": {},
   "outputs": [
    {
     "data": {
      "text/plain": [
       "'In a forgotten library, a young girl opened a dusty book and discovered it was writing her life story as she lived it, each turn of the page revealing her next decision.'"
      ]
     },
     "execution_count": 3,
     "metadata": {},
     "output_type": "execute_result"
    }
   ],
   "source": [
    "get_story()"
   ]
  },
  {
   "cell_type": "markdown",
   "metadata": {},
   "source": [
    "## RAG"
   ]
  },
  {
   "cell_type": "code",
   "execution_count": 4,
   "metadata": {},
   "outputs": [
    {
     "name": "stderr",
     "output_type": "stream",
     "text": [
      "/Users/ruan/Documents/github/pyconza-2024/simple_examples/../knowledge_base/utils.py:71: LangChainDeprecationWarning: The class `HuggingFaceEmbeddings` was deprecated in LangChain 0.2.2 and will be removed in 1.0. An updated version of the class exists in the langchain-huggingface package and should be used instead. To use it run `pip install -U langchain-huggingface` and import as `from langchain_huggingface import HuggingFaceEmbeddings`.\n",
      "  embedding_function = HuggingFaceEmbeddings(\n",
      "/Users/ruan/Documents/github/pyconza-2024/agent/.venv/lib/python3.12/site-packages/sentence_transformers/cross_encoder/CrossEncoder.py:13: TqdmWarning: IProgress not found. Please update jupyter and ipywidgets. See https://ipywidgets.readthedocs.io/en/stable/user_install.html\n",
      "  from tqdm.autonotebook import tqdm, trange\n",
      "/Users/ruan/Documents/github/pyconza-2024/agent/.venv/lib/python3.12/site-packages/transformers/tokenization_utils_base.py:1601: FutureWarning: `clean_up_tokenization_spaces` was not set. It will be set to `True` by default. This behavior will be depracted in transformers v4.45, and will be then set to `False` by default. For more details check this issue: https://github.com/huggingface/transformers/issues/31884\n",
      "  warnings.warn(\n",
      "/Users/ruan/Documents/github/pyconza-2024/simple_examples/../knowledge_base/utils.py:77: LangChainDeprecationWarning: The class `Chroma` was deprecated in LangChain 0.2.9 and will be removed in 1.0. An updated version of the class exists in the langchain-chroma package and should be used instead. To use it run `pip install -U langchain-chroma` and import as `from langchain_chroma import Chroma`.\n",
      "  vectorstore = Chroma(\n"
     ]
    }
   ],
   "source": [
    "# Get RAG chain that will use local vectorstore and Ollama\n",
    "rag_chain = get_rag_chain()"
   ]
  },
  {
   "cell_type": "code",
   "execution_count": 5,
   "metadata": {},
   "outputs": [
    {
     "data": {
      "text/plain": [
       "{'query': 'Explain how the different types of agent memory work',\n",
       " 'result': \"Based on the context provided, here's an explanation of how the different types of agent memory work:\\n\\n1. **Memory Stream**: This is a long-term memory module that records a comprehensive list of agents' experiences in natural language. It appears to be an external database that stores all the interactions and experiences of the generative agents.\\n\\nThe Memory Stream likely allows the agents to recall past events, conversations, or actions they've taken, which can influence their future behavior. This type of memory is essential for enabling agents to learn from their experiences and adapt to new situations.\\n\\n2. **Planning Mechanism**: Although not explicitly described in the context, it's implied that the generative agents have a planning mechanism that allows them to think ahead and make decisions based on past experiences and current circumstances.\\n\\nThe Planning Mechanism might involve some form of reasoning or problem-solving capabilities, enabling the agents to anticipate potential outcomes, weigh options, and choose the most suitable course of action. This would be particularly useful in situations where the agents need to navigate complex social interactions or make strategic decisions.\\n\\n3. **Reflection Mechanism**: The Reflection Mechanism is another component that enables generative agents to reflect on their past experiences, thoughts, and actions. This mechanism likely allows the agents to introspect, identify patterns, and gain insights from their experiences.\\n\\nThe Reflection Mechanism might involve some form of self-awareness or meta-cognition, enabling the agents to evaluate their own performance, adjust their strategies, and improve their decision-making processes over time.\\n\\nThese different types of agent memory work together to enable generative agents to behave in a more human-like manner, with the ability to learn from experience, plan ahead, and reflect on their actions.\"}"
      ]
     },
     "execution_count": 5,
     "metadata": {},
     "output_type": "execute_result"
    }
   ],
   "source": [
    "# Create handler for langfuse\n",
    "langfuse_handler = CallbackHandler()\n",
    "\n",
    "# Invoke chain\n",
    "response = rag_chain.invoke(\n",
    "    \"Explain how the different types of agent memory work\",\n",
    "    config={\"callbacks\": [langfuse_handler]}\n",
    ")\n",
    "response"
   ]
  },
  {
   "cell_type": "code",
   "execution_count": null,
   "metadata": {},
   "outputs": [],
   "source": []
  }
 ],
 "metadata": {
  "kernelspec": {
   "display_name": ".venv",
   "language": "python",
   "name": "python3"
  },
  "language_info": {
   "codemirror_mode": {
    "name": "ipython",
    "version": 3
   },
   "file_extension": ".py",
   "mimetype": "text/x-python",
   "name": "python",
   "nbconvert_exporter": "python",
   "pygments_lexer": "ipython3",
   "version": "3.12.3"
  }
 },
 "nbformat": 4,
 "nbformat_minor": 2
}
